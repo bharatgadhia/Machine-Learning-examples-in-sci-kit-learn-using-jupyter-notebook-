{
 "cells": [
  {
   "cell_type": "code",
   "execution_count": 1,
   "metadata": {
    "collapsed": true
   },
   "outputs": [],
   "source": [
    "import pandas as pd\n",
    "import matplotlib.pyplot as plt\n",
    "import numpy as np\n",
    "\n",
    "%matplotlib inline"
   ]
  },
  {
   "cell_type": "markdown",
   "metadata": {},
   "source": [
    "## Training Algorithm - Naive Bayes"
   ]
  },
  {
   "cell_type": "code",
   "execution_count": 7,
   "metadata": {
    "collapsed": false
   },
   "outputs": [
    {
     "data": {
      "text/plain": [
       "GaussianNB()"
      ]
     },
     "execution_count": 7,
     "metadata": {},
     "output_type": "execute_result"
    }
   ],
   "source": [
    "from sklearn.naive_bayes import GaussianNB\n",
    "\n",
    "#Create Gaussian Naive Bayes Model object and train it with the data\n",
    "\n",
    "nb_model = GaussianNB()\n",
    "\n",
    "nb_model.fit(X_train, y_train.ravel())\n",
    "\n",
    "# with this naive.bayes model has been trained."
   ]
  },
  {
   "cell_type": "markdown",
   "metadata": {},
   "source": [
    "### Performance on Training data"
   ]
  },
  {
   "cell_type": "code",
   "execution_count": 8,
   "metadata": {
    "collapsed": false
   },
   "outputs": [
    {
     "name": "stdout",
     "output_type": "stream",
     "text": [
      "Accuracy : 0.7672%\n",
      "\n"
     ]
    }
   ],
   "source": [
    "nb_predict_train = nb_model.predict(X_train)\n",
    "\n",
    "# import the performance matrics library\n",
    "from sklearn import metrics\n",
    "\n",
    "# Accuracy\n",
    "print(\"Accuracy : {0:0.4f}%\".format(metrics.accuracy_score(y_train,nb_predict_train)))\n",
    "print()\n",
    "\n",
    "# we get over 75% accuracy against training data"
   ]
  },
  {
   "cell_type": "markdown",
   "metadata": {},
   "source": [
    "### Performance on Test data"
   ]
  },
  {
   "cell_type": "code",
   "execution_count": 9,
   "metadata": {
    "collapsed": true
   },
   "outputs": [],
   "source": [
    "#Predict values using test data\n",
    "\n",
    "nb_predict_test = nb_model.predict(X_test)"
   ]
  },
  {
   "cell_type": "code",
   "execution_count": 10,
   "metadata": {
    "collapsed": false
   },
   "outputs": [
    {
     "name": "stdout",
     "output_type": "stream",
     "text": [
      "Accuracy : 0.7446%\n",
      "\n"
     ]
    }
   ],
   "source": [
    "# Accuracy\n",
    "print(\"Accuracy : {0:0.4f}%\".format(metrics.accuracy_score(y_test,nb_predict_test)))\n",
    "print()\n",
    "\n",
    "# we get over 73% accuracy against test data wich is less than training data, but it is over 70%"
   ]
  },
  {
   "cell_type": "markdown",
   "metadata": {},
   "source": [
    "#### Metrics"
   ]
  },
  {
   "cell_type": "code",
   "execution_count": 12,
   "metadata": {
    "collapsed": false
   },
   "outputs": [
    {
     "name": "stdout",
     "output_type": "stream",
     "text": [
      "Test Metrics\n",
      "Confusion Metrix\n",
      "[[ 53  27]\n",
      " [ 32 119]]\n",
      "Classification Report\n",
      "             precision    recall  f1-score   support\n",
      "\n",
      "          1       0.62      0.66      0.64        80\n",
      "          0       0.82      0.79      0.80       151\n",
      "\n",
      "avg / total       0.75      0.74      0.75       231\n",
      "\n"
     ]
    }
   ],
   "source": [
    "print(\"Test Metrics\")\n",
    "print(\"Confusion Metrix\")\n",
    "\n",
    "# Note the use of lables for set 1= True to upper left and 0=False to lower right\n",
    "\n",
    "print(\"{0}\".format(metrics.confusion_matrix(y_test, nb_predict_test, labels=[1,0])))\n",
    "\n",
    "print(\"Classification Report\")\n",
    "print(\"{0}\".format(metrics.classification_report(y_test, nb_predict_test, labels=[1,0])))\n",
    "\n",
    "# 52 and 33 are predicted true \n",
    "# 28 and 118 are predicted false \n",
    "\n",
    "# 52 and 28 are actual true values\n",
    "# 33 118 are actual false values\n",
    "\n",
    "# 52 28  TP FP (True Positve TP-52 Actual and predicted, False Predicted FP-28 predicted to have)\n",
    "# 33 118 FN TN (False Negative FN-33 predicted not to have, True NegatveTN-118 not predict and also not having\n",
    "\n",
    "# \"Perfect\" Classifier\n",
    "# 80  0\n",
    "# 0   151\n",
    "\n",
    "#Our classifier is hence not perfect!!!\n",
    "\n",
    "# recall = True rate and sensitivity.  Recall = TP/(TP+FN) our value is  65% This sholud be greater than 70%\n",
    "\n",
    "# Precision = having and predcited accurately. Precision = TP/(TP+FP)"
   ]
  },
  {
   "cell_type": "code",
   "execution_count": null,
   "metadata": {
    "collapsed": true
   },
   "outputs": [],
   "source": []
  }
 ],
 "metadata": {
  "anaconda-cloud": {},
  "kernelspec": {
   "display_name": "Python [default]",
   "language": "python",
   "name": "python3"
  },
  "language_info": {
   "codemirror_mode": {
    "name": "ipython",
    "version": 3
   },
   "file_extension": ".py",
   "mimetype": "text/x-python",
   "name": "python",
   "nbconvert_exporter": "python",
   "pygments_lexer": "ipython3",
   "version": "3.5.2"
  }
 },
 "nbformat": 4,
 "nbformat_minor": 1
}
